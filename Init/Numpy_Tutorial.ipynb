{
  "nbformat": 4,
  "nbformat_minor": 0,
  "metadata": {
    "colab": {
      "provenance": []
    },
    "kernelspec": {
      "name": "python3",
      "display_name": "Python 3"
    },
    "language_info": {
      "name": "python"
    }
  },
  "cells": [
    {
      "cell_type": "code",
      "execution_count": null,
      "metadata": {
        "id": "dSftFyxS87dA"
      },
      "outputs": [],
      "source": [
        "import numpy as np"
      ]
    },
    {
      "cell_type": "code",
      "source": [
        "from time import process_time"
      ],
      "metadata": {
        "id": "AcmgkX6cYcf_"
      },
      "execution_count": null,
      "outputs": []
    },
    {
      "cell_type": "markdown",
      "source": [
        "# Time Taken"
      ],
      "metadata": {
        "id": "3ZKv6iPmaU3u"
      }
    },
    {
      "cell_type": "code",
      "source": [
        "list1 = [i for i in range(100000)]\n",
        "\n",
        "start = process_time()\n",
        "\n",
        "list1 = [i+5 for i in list1]\n",
        "\n",
        "end = process_time()\n",
        "\n",
        "print(end-start)"
      ],
      "metadata": {
        "colab": {
          "base_uri": "https://localhost:8080/"
        },
        "id": "aFAkdEHs9Aqj",
        "outputId": "4ce591d3-020a-46ec-e24e-df8101e3631d"
      },
      "execution_count": null,
      "outputs": [
        {
          "output_type": "stream",
          "name": "stdout",
          "text": [
            "0.010162440000001993\n"
          ]
        }
      ]
    },
    {
      "cell_type": "code",
      "source": [
        "np_array1 = np.array([i for i in range(100000)])\n",
        "\n",
        "start = process_time()\n",
        "\n",
        "np_array1 += 5\n",
        "\n",
        "end = process_time()\n",
        "\n",
        "print(end-start)"
      ],
      "metadata": {
        "colab": {
          "base_uri": "https://localhost:8080/"
        },
        "id": "abXecbtPY-u6",
        "outputId": "ae26bebc-49e7-4fc5-f6e2-d310baf374f4"
      },
      "execution_count": null,
      "outputs": [
        {
          "output_type": "stream",
          "name": "stdout",
          "text": [
            "0.0011711669999989738\n"
          ]
        }
      ]
    },
    {
      "cell_type": "markdown",
      "source": [
        "# Test"
      ],
      "metadata": {
        "id": "vetocxZgaiu7"
      }
    },
    {
      "cell_type": "code",
      "source": [
        "a = np.zeros((3,2))\n",
        "print(a)"
      ],
      "metadata": {
        "colab": {
          "base_uri": "https://localhost:8080/"
        },
        "id": "9b1KSFBianb2",
        "outputId": "4413860c-364e-474a-93ae-6ea1837692ba"
      },
      "execution_count": null,
      "outputs": [
        {
          "output_type": "stream",
          "name": "stdout",
          "text": [
            "[[0. 0.]\n",
            " [0. 0.]\n",
            " [0. 0.]]\n"
          ]
        }
      ]
    },
    {
      "cell_type": "code",
      "source": [
        "b = np.ones((2,3), dtype=int)\n",
        "print(b)"
      ],
      "metadata": {
        "colab": {
          "base_uri": "https://localhost:8080/"
        },
        "id": "WMKqAT2iaq6f",
        "outputId": "a0b699c8-68c4-4bed-b5b6-d55c4a89a74c"
      },
      "execution_count": null,
      "outputs": [
        {
          "output_type": "stream",
          "name": "stdout",
          "text": [
            "[[1 1 1]\n",
            " [1 1 1]]\n"
          ]
        }
      ]
    },
    {
      "cell_type": "code",
      "source": [
        "c = np.full((3,2), 5)\n",
        "print(c)"
      ],
      "metadata": {
        "colab": {
          "base_uri": "https://localhost:8080/"
        },
        "id": "UUQ7pAtqav2u",
        "outputId": "fb76e395-2121-44f7-b7a1-4fbaf36c7e73"
      },
      "execution_count": null,
      "outputs": [
        {
          "output_type": "stream",
          "name": "stdout",
          "text": [
            "[[5 5]\n",
            " [5 5]\n",
            " [5 5]]\n"
          ]
        }
      ]
    },
    {
      "cell_type": "code",
      "source": [
        "d = np.eye(4, dtype=int)\n",
        "print(d)"
      ],
      "metadata": {
        "colab": {
          "base_uri": "https://localhost:8080/"
        },
        "id": "Cv7oRIIJa7ZI",
        "outputId": "fcdd3308-cfea-4e19-d0b1-106cde53c2e8"
      },
      "execution_count": null,
      "outputs": [
        {
          "output_type": "stream",
          "name": "stdout",
          "text": [
            "[[1 0 0 0]\n",
            " [0 1 0 0]\n",
            " [0 0 1 0]\n",
            " [0 0 0 1]]\n"
          ]
        }
      ]
    },
    {
      "cell_type": "code",
      "source": [
        "e = np.random.random((3,4))\n",
        "print(e)"
      ],
      "metadata": {
        "colab": {
          "base_uri": "https://localhost:8080/"
        },
        "id": "A3QS9EyVbAHI",
        "outputId": "c286da8c-4db6-4cee-ae94-9630e5ff20a9"
      },
      "execution_count": null,
      "outputs": [
        {
          "output_type": "stream",
          "name": "stdout",
          "text": [
            "[[0.79334332 0.97381844 0.97371799 0.79514382]\n",
            " [0.30357265 0.72242245 0.6444487  0.52411843]\n",
            " [0.65672243 0.26084989 0.35269812 0.35169237]]\n"
          ]
        }
      ]
    },
    {
      "cell_type": "code",
      "source": [
        "f = np.array([[1,2,3,4],[5,6,7,8]])\n",
        "print(f)\n",
        "f.shape\n",
        "f.dtype"
      ],
      "metadata": {
        "colab": {
          "base_uri": "https://localhost:8080/"
        },
        "id": "Y8XVFWsFbRrn",
        "outputId": "0396937d-9c32-481f-9c2b-19d7d402eceb"
      },
      "execution_count": null,
      "outputs": [
        {
          "output_type": "stream",
          "name": "stdout",
          "text": [
            "[[1 2 3 4]\n",
            " [5 6 7 8]]\n"
          ]
        },
        {
          "output_type": "execute_result",
          "data": {
            "text/plain": [
              "dtype('int64')"
            ]
          },
          "metadata": {},
          "execution_count": 24
        }
      ]
    },
    {
      "cell_type": "code",
      "source": [
        "g = np.random.randint(10,100,(4,5))\n",
        "print(g)"
      ],
      "metadata": {
        "colab": {
          "base_uri": "https://localhost:8080/"
        },
        "id": "BP28ITxkbZA0",
        "outputId": "87fcb9e5-0cd4-459d-f509-d9bec8694472"
      },
      "execution_count": null,
      "outputs": [
        {
          "output_type": "stream",
          "name": "stdout",
          "text": [
            "[[53 76 41 74 93]\n",
            " [23 34 21 64 82]\n",
            " [52 33 82 98 23]\n",
            " [62 38 28 34 51]]\n"
          ]
        }
      ]
    },
    {
      "cell_type": "code",
      "source": [
        "h = np.linspace(10,30,5)\n",
        "print(h)"
      ],
      "metadata": {
        "colab": {
          "base_uri": "https://localhost:8080/"
        },
        "id": "d97hqyxIbrxE",
        "outputId": "c8426cfe-4668-430c-89e6-d6c978d9ccc7"
      },
      "execution_count": null,
      "outputs": [
        {
          "output_type": "stream",
          "name": "stdout",
          "text": [
            "[10. 15. 20. 25. 30.]\n"
          ]
        }
      ]
    },
    {
      "cell_type": "code",
      "source": [
        "i = np.arange(10,30,6)\n",
        "print(i)"
      ],
      "metadata": {
        "colab": {
          "base_uri": "https://localhost:8080/"
        },
        "id": "qtPvEDtLb-hV",
        "outputId": "d4fbce2e-5053-4fd6-e73a-38e68b3c260c"
      },
      "execution_count": null,
      "outputs": [
        {
          "output_type": "stream",
          "name": "stdout",
          "text": [
            "[10 16 22 28]\n"
          ]
        }
      ]
    },
    {
      "cell_type": "code",
      "source": [
        "list1 = [1,2,3,4,5]\n",
        "j = np.array(list1)\n",
        "print(j)"
      ],
      "metadata": {
        "colab": {
          "base_uri": "https://localhost:8080/"
        },
        "id": "_9LsAWEvcEtQ",
        "outputId": "18b8ee11-16a3-4f28-d815-debdc7e3622e"
      },
      "execution_count": null,
      "outputs": [
        {
          "output_type": "stream",
          "name": "stdout",
          "text": [
            "[1 2 3 4 5]\n"
          ]
        }
      ]
    },
    {
      "cell_type": "code",
      "source": [
        "k = np.random.randint(10,100,(3,2))\n",
        "print(k)\n",
        "l = np.transpose(k)\n",
        "print(l)"
      ],
      "metadata": {
        "colab": {
          "base_uri": "https://localhost:8080/"
        },
        "id": "W6HS73occOZ1",
        "outputId": "563df285-56cc-4c2e-93f2-40bb3696af9f"
      },
      "execution_count": null,
      "outputs": [
        {
          "output_type": "stream",
          "name": "stdout",
          "text": [
            "[[80 81]\n",
            " [13 31]\n",
            " [33 55]]\n",
            "[[80 13 33]\n",
            " [81 31 55]]\n"
          ]
        }
      ]
    },
    {
      "cell_type": "code",
      "source": [
        "m = np.random.randint(10,100,(3,2))\n",
        "print(m)\n",
        "n = m.T\n",
        "print(n)"
      ],
      "metadata": {
        "colab": {
          "base_uri": "https://localhost:8080/"
        },
        "id": "ld7XGzsKcfcE",
        "outputId": "5b7bbe43-412d-4674-8007-c6ea84d91c73"
      },
      "execution_count": null,
      "outputs": [
        {
          "output_type": "stream",
          "name": "stdout",
          "text": [
            "[[59 32]\n",
            " [26 37]\n",
            " [62 60]]\n",
            "[[59 26 62]\n",
            " [32 37 60]]\n"
          ]
        }
      ]
    },
    {
      "cell_type": "code",
      "source": [
        "o = np.random.randint(10,100,(3,2))\n",
        "print(o)\n",
        "p = o.reshape((2,3))\n",
        "print(p)\n",
        "p.shape"
      ],
      "metadata": {
        "colab": {
          "base_uri": "https://localhost:8080/"
        },
        "id": "wS6Y4X_Cc0z7",
        "outputId": "80f55639-ced7-4cbe-f443-745ad79da21c"
      },
      "execution_count": null,
      "outputs": [
        {
          "output_type": "stream",
          "name": "stdout",
          "text": [
            "[[35 80]\n",
            " [31 58]\n",
            " [43 16]]\n",
            "[[35 80 31]\n",
            " [58 43 16]]\n"
          ]
        },
        {
          "output_type": "execute_result",
          "data": {
            "text/plain": [
              "(2, 3)"
            ]
          },
          "metadata": {},
          "execution_count": 39
        }
      ]
    },
    {
      "cell_type": "markdown",
      "source": [
        "# Mathematical Operations"
      ],
      "metadata": {
        "id": "vewpywIx_Q0k"
      }
    },
    {
      "cell_type": "code",
      "source": [
        "q = np.random.randint(10,100,(3,3))\n",
        "r = np.random.randint(10,100,(3,3))\n",
        "print(q)\n",
        "print(r)"
      ],
      "metadata": {
        "colab": {
          "base_uri": "https://localhost:8080/"
        },
        "id": "4t108cy-_VMm",
        "outputId": "aa2e5d88-38e7-4e5c-d9c5-e54d22db1d7d"
      },
      "execution_count": null,
      "outputs": [
        {
          "output_type": "stream",
          "name": "stdout",
          "text": [
            "[[34 89 15]\n",
            " [91 17 64]\n",
            " [83 47 76]]\n",
            "[[76 47 28]\n",
            " [39 84 48]\n",
            " [44 55 45]]\n"
          ]
        }
      ]
    },
    {
      "cell_type": "code",
      "source": [
        "print(q+r)\n",
        "print(q-r)\n",
        "print(q*r)\n",
        "print(q/r)"
      ],
      "metadata": {
        "colab": {
          "base_uri": "https://localhost:8080/"
        },
        "id": "AD49A2cY_V-A",
        "outputId": "da43bbaa-e0eb-44f1-f296-93ecf2238cbe"
      },
      "execution_count": null,
      "outputs": [
        {
          "output_type": "stream",
          "name": "stdout",
          "text": [
            "[[110 136  43]\n",
            " [130 101 112]\n",
            " [127 102 121]]\n",
            "[[-42  42 -13]\n",
            " [ 52 -67  16]\n",
            " [ 39  -8  31]]\n",
            "[[2584 4183  420]\n",
            " [3549 1428 3072]\n",
            " [3652 2585 3420]]\n",
            "[[0.44736842 1.89361702 0.53571429]\n",
            " [2.33333333 0.20238095 1.33333333]\n",
            " [1.88636364 0.85454545 1.68888889]]\n"
          ]
        }
      ]
    },
    {
      "cell_type": "code",
      "source": [
        "print(np.add(q,r))\n",
        "print(np.subtract(q,r))\n",
        "print(np.multiply(q,r))\n",
        "print(np.divide(q,r))"
      ],
      "metadata": {
        "id": "lMlB2vA8_eB_"
      },
      "execution_count": null,
      "outputs": []
    },
    {
      "cell_type": "code",
      "source": [],
      "metadata": {
        "id": "K7XkhaG5_nV9"
      },
      "execution_count": null,
      "outputs": []
    }
  ]
}